{
 "cells": [
  {
   "cell_type": "code",
   "execution_count": 1,
   "id": "522a41e7",
   "metadata": {},
   "outputs": [],
   "source": [
    "import pandas as pd\n",
    "import numpy as np\n",
    "import matplotlib.pyplot as plt\n",
    "import seaborn as sb\n",
    "\n",
    "%matplotlib inline"
   ]
  },
  {
   "cell_type": "code",
   "execution_count": 2,
   "id": "9f829452",
   "metadata": {},
   "outputs": [
    {
     "data": {
      "text/html": [
       "<div>\n",
       "<style scoped>\n",
       "    .dataframe tbody tr th:only-of-type {\n",
       "        vertical-align: middle;\n",
       "    }\n",
       "\n",
       "    .dataframe tbody tr th {\n",
       "        vertical-align: top;\n",
       "    }\n",
       "\n",
       "    .dataframe thead th {\n",
       "        text-align: right;\n",
       "    }\n",
       "</style>\n",
       "<table border=\"1\" class=\"dataframe\">\n",
       "  <thead>\n",
       "    <tr style=\"text-align: right;\">\n",
       "      <th></th>\n",
       "      <th>Unnamed: 0</th>\n",
       "      <th>User ID</th>\n",
       "      <th>Name</th>\n",
       "      <th>Email</th>\n",
       "    </tr>\n",
       "  </thead>\n",
       "  <tbody>\n",
       "    <tr>\n",
       "      <th>0</th>\n",
       "      <td>0</td>\n",
       "      <td>4c731e48-0377-4d7d-b4c8-b2174b774ed8</td>\n",
       "      <td>Gary Hill</td>\n",
       "      <td>GHbnuothhymw</td>\n",
       "    </tr>\n",
       "    <tr>\n",
       "      <th>1</th>\n",
       "      <td>1</td>\n",
       "      <td>95258c36-5b6b-4591-85ee-0c43f503c1d5</td>\n",
       "      <td>Michael Deering</td>\n",
       "      <td>MD@gmail.com</td>\n",
       "    </tr>\n",
       "    <tr>\n",
       "      <th>2</th>\n",
       "      <td>2</td>\n",
       "      <td>a8229d24-f219-4930-a382-24049a8f73bb</td>\n",
       "      <td>Richard Bain</td>\n",
       "      <td>RB@gmail.com</td>\n",
       "    </tr>\n",
       "    <tr>\n",
       "      <th>3</th>\n",
       "      <td>3</td>\n",
       "      <td>8f41c07f-db4f-44f3-ae81-1f99cee047eb</td>\n",
       "      <td>Kristi Mccarthy</td>\n",
       "      <td>KM@gmail.com</td>\n",
       "    </tr>\n",
       "    <tr>\n",
       "      <th>4</th>\n",
       "      <td>4</td>\n",
       "      <td>3af8d78b-55c4-4ac0-8161-7cc3f6ec11c9</td>\n",
       "      <td>Betty Ellis</td>\n",
       "      <td>BE@gmail.com</td>\n",
       "    </tr>\n",
       "  </tbody>\n",
       "</table>\n",
       "</div>"
      ],
      "text/plain": [
       "   Unnamed: 0                               User ID             Name  \\\n",
       "0           0  4c731e48-0377-4d7d-b4c8-b2174b774ed8        Gary Hill   \n",
       "1           1  95258c36-5b6b-4591-85ee-0c43f503c1d5  Michael Deering   \n",
       "2           2  a8229d24-f219-4930-a382-24049a8f73bb     Richard Bain   \n",
       "3           3  8f41c07f-db4f-44f3-ae81-1f99cee047eb  Kristi Mccarthy   \n",
       "4           4  3af8d78b-55c4-4ac0-8161-7cc3f6ec11c9      Betty Ellis   \n",
       "\n",
       "          Email  \n",
       "0  GHbnuothhymw  \n",
       "1  MD@gmail.com  \n",
       "2  RB@gmail.com  \n",
       "3  KM@gmail.com  \n",
       "4  BE@gmail.com  "
      ]
     },
     "execution_count": 2,
     "metadata": {},
     "output_type": "execute_result"
    }
   ],
   "source": [
    "#load datasets into pandas dataframe\n",
    "\n",
    "#content data import \n",
    "df_content = pd.read_csv(\"data/content.csv\")\n",
    "\n",
    "#location data import\n",
    "df_location = pd.read_csv(\"data/location.csv\")\n",
    "\n",
    "#Profile data import\n",
    "df_profile = pd.read_csv(\"data/profile.csv\")\n",
    "\n",
    "#Reactions data import\n",
    "df_reactions = pd.read_csv(\"data/reactions.csv\")\n",
    "\n",
    "#ReactionType import\n",
    "df_reaction_type = pd.read_csv(\"data/reactiontypes.csv\")\n",
    "\n",
    "#Users data import\n",
    "df_user = pd.read_csv(\"data/user.csv\")\n",
    "df_user.head()"
   ]
  },
  {
   "cell_type": "code",
   "execution_count": 3,
   "id": "69bada89",
   "metadata": {},
   "outputs": [
    {
     "name": "stdout",
     "output_type": "stream",
     "text": [
      "<class 'pandas.core.frame.DataFrame'>\n",
      "RangeIndex: 1000 entries, 0 to 999\n",
      "Data columns (total 6 columns):\n",
      " #   Column      Non-Null Count  Dtype \n",
      "---  ------      --------------  ----- \n",
      " 0   Unnamed: 0  1000 non-null   int64 \n",
      " 1   Content ID  1000 non-null   object\n",
      " 2   User ID     1000 non-null   object\n",
      " 3   Type        1000 non-null   object\n",
      " 4   Category    1000 non-null   object\n",
      " 5   URL         801 non-null    object\n",
      "dtypes: int64(1), object(5)\n",
      "memory usage: 47.0+ KB\n"
     ]
    }
   ],
   "source": [
    "#overview of datasets\n",
    "df_content.shape\n",
    "df_content.info()"
   ]
  },
  {
   "cell_type": "code",
   "execution_count": 4,
   "id": "4a3a4361",
   "metadata": {},
   "outputs": [
    {
     "name": "stdout",
     "output_type": "stream",
     "text": [
      "<class 'pandas.core.frame.DataFrame'>\n",
      "RangeIndex: 500 entries, 0 to 499\n",
      "Data columns (total 3 columns):\n",
      " #   Column      Non-Null Count  Dtype \n",
      "---  ------      --------------  ----- \n",
      " 0   Unnamed: 0  500 non-null    int64 \n",
      " 1   User ID     500 non-null    object\n",
      " 2   Address     500 non-null    object\n",
      "dtypes: int64(1), object(2)\n",
      "memory usage: 11.8+ KB\n"
     ]
    }
   ],
   "source": [
    "df_location.info()"
   ]
  },
  {
   "cell_type": "code",
   "execution_count": 5,
   "id": "45e55859",
   "metadata": {},
   "outputs": [
    {
     "name": "stdout",
     "output_type": "stream",
     "text": [
      "<class 'pandas.core.frame.DataFrame'>\n",
      "RangeIndex: 500 entries, 0 to 499\n",
      "Data columns (total 4 columns):\n",
      " #   Column      Non-Null Count  Dtype \n",
      "---  ------      --------------  ----- \n",
      " 0   Unnamed: 0  500 non-null    int64 \n",
      " 1   User ID     500 non-null    object\n",
      " 2   Interests   500 non-null    object\n",
      " 3   Age         500 non-null    int64 \n",
      "dtypes: int64(2), object(2)\n",
      "memory usage: 15.8+ KB\n"
     ]
    }
   ],
   "source": [
    "df_profile.info()"
   ]
  },
  {
   "cell_type": "code",
   "execution_count": 6,
   "id": "1675ebd1",
   "metadata": {},
   "outputs": [
    {
     "data": {
      "text/html": [
       "<div>\n",
       "<style scoped>\n",
       "    .dataframe tbody tr th:only-of-type {\n",
       "        vertical-align: middle;\n",
       "    }\n",
       "\n",
       "    .dataframe tbody tr th {\n",
       "        vertical-align: top;\n",
       "    }\n",
       "\n",
       "    .dataframe thead th {\n",
       "        text-align: right;\n",
       "    }\n",
       "</style>\n",
       "<table border=\"1\" class=\"dataframe\">\n",
       "  <thead>\n",
       "    <tr style=\"text-align: right;\">\n",
       "      <th></th>\n",
       "      <th>Unnamed: 0</th>\n",
       "      <th>Age</th>\n",
       "    </tr>\n",
       "  </thead>\n",
       "  <tbody>\n",
       "    <tr>\n",
       "      <th>count</th>\n",
       "      <td>500.000000</td>\n",
       "      <td>500.000000</td>\n",
       "    </tr>\n",
       "    <tr>\n",
       "      <th>mean</th>\n",
       "      <td>249.500000</td>\n",
       "      <td>22.290000</td>\n",
       "    </tr>\n",
       "    <tr>\n",
       "      <th>std</th>\n",
       "      <td>144.481833</td>\n",
       "      <td>13.154619</td>\n",
       "    </tr>\n",
       "    <tr>\n",
       "      <th>min</th>\n",
       "      <td>0.000000</td>\n",
       "      <td>0.000000</td>\n",
       "    </tr>\n",
       "    <tr>\n",
       "      <th>25%</th>\n",
       "      <td>124.750000</td>\n",
       "      <td>10.750000</td>\n",
       "    </tr>\n",
       "    <tr>\n",
       "      <th>50%</th>\n",
       "      <td>249.500000</td>\n",
       "      <td>23.000000</td>\n",
       "    </tr>\n",
       "    <tr>\n",
       "      <th>75%</th>\n",
       "      <td>374.250000</td>\n",
       "      <td>34.000000</td>\n",
       "    </tr>\n",
       "    <tr>\n",
       "      <th>max</th>\n",
       "      <td>499.000000</td>\n",
       "      <td>44.000000</td>\n",
       "    </tr>\n",
       "  </tbody>\n",
       "</table>\n",
       "</div>"
      ],
      "text/plain": [
       "       Unnamed: 0         Age\n",
       "count  500.000000  500.000000\n",
       "mean   249.500000   22.290000\n",
       "std    144.481833   13.154619\n",
       "min      0.000000    0.000000\n",
       "25%    124.750000   10.750000\n",
       "50%    249.500000   23.000000\n",
       "75%    374.250000   34.000000\n",
       "max    499.000000   44.000000"
      ]
     },
     "execution_count": 6,
     "metadata": {},
     "output_type": "execute_result"
    }
   ],
   "source": [
    "# display summmary statistics for profile data\n",
    "df_profile.describe()"
   ]
  },
  {
   "cell_type": "code",
   "execution_count": 7,
   "id": "ca3aa663",
   "metadata": {},
   "outputs": [
    {
     "name": "stdout",
     "output_type": "stream",
     "text": [
      "<class 'pandas.core.frame.DataFrame'>\n",
      "RangeIndex: 25553 entries, 0 to 25552\n",
      "Data columns (total 5 columns):\n",
      " #   Column      Non-Null Count  Dtype \n",
      "---  ------      --------------  ----- \n",
      " 0   Unnamed: 0  25553 non-null  int64 \n",
      " 1   Content ID  25553 non-null  object\n",
      " 2   User ID     22534 non-null  object\n",
      " 3   Type        24573 non-null  object\n",
      " 4   Datetime    25553 non-null  object\n",
      "dtypes: int64(1), object(4)\n",
      "memory usage: 998.3+ KB\n"
     ]
    }
   ],
   "source": [
    "df_reactions.info()"
   ]
  },
  {
   "cell_type": "code",
   "execution_count": 8,
   "id": "a6f8e94e",
   "metadata": {},
   "outputs": [
    {
     "name": "stdout",
     "output_type": "stream",
     "text": [
      "<class 'pandas.core.frame.DataFrame'>\n",
      "RangeIndex: 16 entries, 0 to 15\n",
      "Data columns (total 4 columns):\n",
      " #   Column      Non-Null Count  Dtype \n",
      "---  ------      --------------  ----- \n",
      " 0   Unnamed: 0  16 non-null     int64 \n",
      " 1   Type        16 non-null     object\n",
      " 2   Sentiment   16 non-null     object\n",
      " 3   Score       16 non-null     int64 \n",
      "dtypes: int64(2), object(2)\n",
      "memory usage: 640.0+ bytes\n"
     ]
    }
   ],
   "source": [
    "df_reaction_type.info()"
   ]
  },
  {
   "cell_type": "code",
   "execution_count": 9,
   "id": "8c4145e3",
   "metadata": {},
   "outputs": [
    {
     "name": "stdout",
     "output_type": "stream",
     "text": [
      "<class 'pandas.core.frame.DataFrame'>\n",
      "RangeIndex: 500 entries, 0 to 499\n",
      "Data columns (total 4 columns):\n",
      " #   Column      Non-Null Count  Dtype \n",
      "---  ------      --------------  ----- \n",
      " 0   Unnamed: 0  500 non-null    int64 \n",
      " 1   User ID     500 non-null    object\n",
      " 2   Name        500 non-null    object\n",
      " 3   Email       500 non-null    object\n",
      "dtypes: int64(1), object(3)\n",
      "memory usage: 15.8+ KB\n"
     ]
    }
   ],
   "source": [
    "df_user.info()"
   ]
  },
  {
   "cell_type": "markdown",
   "id": "9b48b70e",
   "metadata": {},
   "source": [
    "### Quality Issues;\n",
    "\n",
    "`Content`\n",
    "- Some category values in quotes\n",
    "- inconsistent casing for category values. lowercase sometimes, capitalized sometimes\n",
    "- missing url for some post.\n",
    "- type for category is string instead of category\n",
    "\n",
    "`Profile`\n",
    "- invalid interest values [0], [0,1], [0,1,2] for users\n",
    "- interest formatted as list instead of string\n",
    "- Age values below minimal requirement of 13\n",
    "\n",
    "`Reactions`\n",
    "- missing userid and type values\n",
    "\n",
    "`User`\n",
    "- invalid email for some users.\n",
    "\n",
    "### Tidiness Issues\n",
    "- Index column part of the all the datasets"
   ]
  },
  {
   "cell_type": "markdown",
   "id": "2a79a057",
   "metadata": {},
   "source": [
    "### Cleaning Task; Missing values"
   ]
  },
  {
   "cell_type": "code",
   "execution_count": 10,
   "id": "ea588ab5",
   "metadata": {},
   "outputs": [],
   "source": [
    "#generate urls for records with missing post url in content table\n",
    "df_content_clean = df_content.copy()"
   ]
  },
  {
   "cell_type": "code",
   "execution_count": 11,
   "id": "c956b9fa",
   "metadata": {},
   "outputs": [],
   "source": [
    "domain = 'https://socialbuzz.cdn.com/content/storage/'\n",
    "\n",
    "def create_url(post):\n",
    "    post = post.astype('str')\n",
    "    post_attributes = list(post)\n",
    "    if post_attributes[5] == 'nan':\n",
    "        return domain + post[1]\n",
    "    return post[5]\n",
    "df_content_clean['URL'] = df_content_clean.apply(create_url, axis=1)"
   ]
  },
  {
   "cell_type": "code",
   "execution_count": 12,
   "id": "613eb4e9",
   "metadata": {},
   "outputs": [
    {
     "data": {
      "text/plain": [
       "0"
      ]
     },
     "execution_count": 12,
     "metadata": {},
     "output_type": "execute_result"
    }
   ],
   "source": [
    "#test \n",
    "df_content_clean['URL'].isna().sum()"
   ]
  },
  {
   "cell_type": "code",
   "execution_count": 13,
   "id": "2df62439",
   "metadata": {},
   "outputs": [],
   "source": [
    "#Reactions - drop record with missing type\n",
    "df_reactions_clean = df_reactions.copy()\n",
    "type_index = df_reactions_clean[df_reactions_clean['Type'].isna()].index\n",
    "df_reactions_clean.drop(type_index, inplace=True)"
   ]
  },
  {
   "cell_type": "code",
   "execution_count": 14,
   "id": "1c793608",
   "metadata": {},
   "outputs": [
    {
     "data": {
      "text/plain": [
       "0"
      ]
     },
     "execution_count": 14,
     "metadata": {},
     "output_type": "execute_result"
    }
   ],
   "source": [
    "#Test\n",
    "df_reactions_clean.Type.isna().sum()"
   ]
  },
  {
   "cell_type": "code",
   "execution_count": 15,
   "id": "7860229e",
   "metadata": {},
   "outputs": [],
   "source": [
    "#Reactions - drop records with missing user ID\n",
    "user_index = df_reactions_clean[df_reactions_clean['User ID'].isna()].index\n",
    "df_reactions_clean.drop(user_index, inplace=True)"
   ]
  },
  {
   "cell_type": "code",
   "execution_count": 16,
   "id": "25c8ada4",
   "metadata": {},
   "outputs": [
    {
     "data": {
      "text/plain": [
       "0"
      ]
     },
     "execution_count": 16,
     "metadata": {},
     "output_type": "execute_result"
    }
   ],
   "source": [
    "#Test \n",
    "df_reactions_clean['User ID'].isna().sum()"
   ]
  },
  {
   "cell_type": "code",
   "execution_count": 17,
   "id": "35c6d5d3",
   "metadata": {},
   "outputs": [
    {
     "data": {
      "text/html": [
       "<div>\n",
       "<style scoped>\n",
       "    .dataframe tbody tr th:only-of-type {\n",
       "        vertical-align: middle;\n",
       "    }\n",
       "\n",
       "    .dataframe tbody tr th {\n",
       "        vertical-align: top;\n",
       "    }\n",
       "\n",
       "    .dataframe thead th {\n",
       "        text-align: right;\n",
       "    }\n",
       "</style>\n",
       "<table border=\"1\" class=\"dataframe\">\n",
       "  <thead>\n",
       "    <tr style=\"text-align: right;\">\n",
       "      <th></th>\n",
       "      <th>Unnamed: 0</th>\n",
       "      <th>Content ID</th>\n",
       "      <th>User ID</th>\n",
       "      <th>Type</th>\n",
       "      <th>Datetime</th>\n",
       "      <th>Sentiment</th>\n",
       "      <th>Score</th>\n",
       "    </tr>\n",
       "  </thead>\n",
       "  <tbody>\n",
       "    <tr>\n",
       "      <th>0</th>\n",
       "      <td>1</td>\n",
       "      <td>97522e57-d9ab-4bd6-97bf-c24d952602d2</td>\n",
       "      <td>5d454588-283d-459d-915d-c48a2cb4c27f</td>\n",
       "      <td>disgust</td>\n",
       "      <td>2020-11-07 09:43:50</td>\n",
       "      <td>negative</td>\n",
       "      <td>0</td>\n",
       "    </tr>\n",
       "    <tr>\n",
       "      <th>1</th>\n",
       "      <td>4</td>\n",
       "      <td>97522e57-d9ab-4bd6-97bf-c24d952602d2</td>\n",
       "      <td>34e8add9-0206-47fd-a501-037b994650a2</td>\n",
       "      <td>disgust</td>\n",
       "      <td>2021-01-06 19:13:01</td>\n",
       "      <td>negative</td>\n",
       "      <td>0</td>\n",
       "    </tr>\n",
       "    <tr>\n",
       "      <th>2</th>\n",
       "      <td>35</td>\n",
       "      <td>97522e57-d9ab-4bd6-97bf-c24d952602d2</td>\n",
       "      <td>13c06e7e-833d-47eb-a790-5e09ccfd8d2c</td>\n",
       "      <td>disgust</td>\n",
       "      <td>2021-04-09 02:46:20</td>\n",
       "      <td>negative</td>\n",
       "      <td>0</td>\n",
       "    </tr>\n",
       "    <tr>\n",
       "      <th>3</th>\n",
       "      <td>52</td>\n",
       "      <td>9f737e0a-3cdd-4d29-9d24-753f4e3be810</td>\n",
       "      <td>8b49caad-bcc5-43de-bf40-34a66ff8805c</td>\n",
       "      <td>disgust</td>\n",
       "      <td>2021-03-28 21:15:26</td>\n",
       "      <td>negative</td>\n",
       "      <td>0</td>\n",
       "    </tr>\n",
       "    <tr>\n",
       "      <th>4</th>\n",
       "      <td>88</td>\n",
       "      <td>230c4e4d-70c3-461d-b42c-ec09396efb3f</td>\n",
       "      <td>ef147ea5-9696-44d5-b6c2-a43f62fd8ce2</td>\n",
       "      <td>disgust</td>\n",
       "      <td>2020-08-04 05:40:33</td>\n",
       "      <td>negative</td>\n",
       "      <td>0</td>\n",
       "    </tr>\n",
       "  </tbody>\n",
       "</table>\n",
       "</div>"
      ],
      "text/plain": [
       "   Unnamed: 0                            Content ID  \\\n",
       "0           1  97522e57-d9ab-4bd6-97bf-c24d952602d2   \n",
       "1           4  97522e57-d9ab-4bd6-97bf-c24d952602d2   \n",
       "2          35  97522e57-d9ab-4bd6-97bf-c24d952602d2   \n",
       "3          52  9f737e0a-3cdd-4d29-9d24-753f4e3be810   \n",
       "4          88  230c4e4d-70c3-461d-b42c-ec09396efb3f   \n",
       "\n",
       "                                User ID     Type             Datetime  \\\n",
       "0  5d454588-283d-459d-915d-c48a2cb4c27f  disgust  2020-11-07 09:43:50   \n",
       "1  34e8add9-0206-47fd-a501-037b994650a2  disgust  2021-01-06 19:13:01   \n",
       "2  13c06e7e-833d-47eb-a790-5e09ccfd8d2c  disgust  2021-04-09 02:46:20   \n",
       "3  8b49caad-bcc5-43de-bf40-34a66ff8805c  disgust  2021-03-28 21:15:26   \n",
       "4  ef147ea5-9696-44d5-b6c2-a43f62fd8ce2  disgust  2020-08-04 05:40:33   \n",
       "\n",
       "  Sentiment  Score  \n",
       "0  negative      0  \n",
       "1  negative      0  \n",
       "2  negative      0  \n",
       "3  negative      0  \n",
       "4  negative      0  "
      ]
     },
     "execution_count": 17,
     "metadata": {},
     "output_type": "execute_result"
    }
   ],
   "source": [
    "# merge content and rection and reaction type tabels\n",
    "# merge reaction and reaction type datasets\n",
    "df_reaction_type_clean = df_reaction_type[['Type','Sentiment', 'Score']]\n",
    "df_reactions_clean = pd.merge(df_reactions_clean, df_reaction_type_clean, on='Type', how='inner')\n",
    "df_reactions_clean.head()"
   ]
  },
  {
   "cell_type": "code",
   "execution_count": 18,
   "id": "b7532bca",
   "metadata": {},
   "outputs": [],
   "source": [
    "# merge content and reactions\n",
    "df_content_clean = df_content_clean[['Content ID','Type', 'Category', 'URL']]\n",
    "df_reactions_clean.head()\n",
    "df_reactions_clean = pd.merge(df_reactions_clean, df_content_clean, on=['Content ID'], how='inner')"
   ]
  },
  {
   "cell_type": "code",
   "execution_count": 19,
   "id": "a1be2be4",
   "metadata": {},
   "outputs": [
    {
     "data": {
      "text/html": [
       "<div>\n",
       "<style scoped>\n",
       "    .dataframe tbody tr th:only-of-type {\n",
       "        vertical-align: middle;\n",
       "    }\n",
       "\n",
       "    .dataframe tbody tr th {\n",
       "        vertical-align: top;\n",
       "    }\n",
       "\n",
       "    .dataframe thead th {\n",
       "        text-align: right;\n",
       "    }\n",
       "</style>\n",
       "<table border=\"1\" class=\"dataframe\">\n",
       "  <thead>\n",
       "    <tr style=\"text-align: right;\">\n",
       "      <th></th>\n",
       "      <th>Unnamed: 0</th>\n",
       "      <th>User ID</th>\n",
       "      <th>Name</th>\n",
       "      <th>Email</th>\n",
       "      <th>Age</th>\n",
       "    </tr>\n",
       "  </thead>\n",
       "  <tbody>\n",
       "    <tr>\n",
       "      <th>0</th>\n",
       "      <td>0</td>\n",
       "      <td>4c731e48-0377-4d7d-b4c8-b2174b774ed8</td>\n",
       "      <td>Gary Hill</td>\n",
       "      <td>GHbnuothhymw</td>\n",
       "      <td>41</td>\n",
       "    </tr>\n",
       "    <tr>\n",
       "      <th>1</th>\n",
       "      <td>1</td>\n",
       "      <td>95258c36-5b6b-4591-85ee-0c43f503c1d5</td>\n",
       "      <td>Michael Deering</td>\n",
       "      <td>MD@gmail.com</td>\n",
       "      <td>23</td>\n",
       "    </tr>\n",
       "    <tr>\n",
       "      <th>2</th>\n",
       "      <td>2</td>\n",
       "      <td>a8229d24-f219-4930-a382-24049a8f73bb</td>\n",
       "      <td>Richard Bain</td>\n",
       "      <td>RB@gmail.com</td>\n",
       "      <td>25</td>\n",
       "    </tr>\n",
       "    <tr>\n",
       "      <th>3</th>\n",
       "      <td>3</td>\n",
       "      <td>8f41c07f-db4f-44f3-ae81-1f99cee047eb</td>\n",
       "      <td>Kristi Mccarthy</td>\n",
       "      <td>KM@gmail.com</td>\n",
       "      <td>2</td>\n",
       "    </tr>\n",
       "    <tr>\n",
       "      <th>4</th>\n",
       "      <td>4</td>\n",
       "      <td>3af8d78b-55c4-4ac0-8161-7cc3f6ec11c9</td>\n",
       "      <td>Betty Ellis</td>\n",
       "      <td>BE@gmail.com</td>\n",
       "      <td>44</td>\n",
       "    </tr>\n",
       "  </tbody>\n",
       "</table>\n",
       "</div>"
      ],
      "text/plain": [
       "   Unnamed: 0                               User ID             Name  \\\n",
       "0           0  4c731e48-0377-4d7d-b4c8-b2174b774ed8        Gary Hill   \n",
       "1           1  95258c36-5b6b-4591-85ee-0c43f503c1d5  Michael Deering   \n",
       "2           2  a8229d24-f219-4930-a382-24049a8f73bb     Richard Bain   \n",
       "3           3  8f41c07f-db4f-44f3-ae81-1f99cee047eb  Kristi Mccarthy   \n",
       "4           4  3af8d78b-55c4-4ac0-8161-7cc3f6ec11c9      Betty Ellis   \n",
       "\n",
       "          Email  Age  \n",
       "0  GHbnuothhymw   41  \n",
       "1  MD@gmail.com   23  \n",
       "2  RB@gmail.com   25  \n",
       "3  KM@gmail.com    2  \n",
       "4  BE@gmail.com   44  "
      ]
     },
     "execution_count": 19,
     "metadata": {},
     "output_type": "execute_result"
    }
   ],
   "source": [
    "# merge user and profile dataset\n",
    "df_profile_clean = df_profile[['User ID', 'Age']]\n",
    "df_user_clean = df_user.copy()\n",
    "df_user_clean = pd.merge(df_user_clean, df_profile_clean, on='User ID', how='inner')\n",
    "df_user_clean.head()"
   ]
  },
  {
   "cell_type": "markdown",
   "id": "3a0e857a",
   "metadata": {},
   "source": [
    "### Cleaning Task; Quality Issues"
   ]
  },
  {
   "cell_type": "code",
   "execution_count": 20,
   "id": "46d6b1ba",
   "metadata": {},
   "outputs": [],
   "source": [
    "# content - remove quotes from category values\n",
    "df_reactions_clean['Category'] = df_reactions_clean['Category'].str.replace('\"', '')"
   ]
  },
  {
   "cell_type": "code",
   "execution_count": 21,
   "id": "7c4bb8de",
   "metadata": {},
   "outputs": [
    {
     "data": {
      "text/plain": [
       "0"
      ]
     },
     "execution_count": 21,
     "metadata": {},
     "output_type": "execute_result"
    }
   ],
   "source": [
    "# test\n",
    "df_reactions_clean['Category'].str.contains('\"').sum()"
   ]
  },
  {
   "cell_type": "code",
   "execution_count": 22,
   "id": "814667ba",
   "metadata": {},
   "outputs": [
    {
     "data": {
      "text/html": [
       "<div>\n",
       "<style scoped>\n",
       "    .dataframe tbody tr th:only-of-type {\n",
       "        vertical-align: middle;\n",
       "    }\n",
       "\n",
       "    .dataframe tbody tr th {\n",
       "        vertical-align: top;\n",
       "    }\n",
       "\n",
       "    .dataframe thead th {\n",
       "        text-align: right;\n",
       "    }\n",
       "</style>\n",
       "<table border=\"1\" class=\"dataframe\">\n",
       "  <thead>\n",
       "    <tr style=\"text-align: right;\">\n",
       "      <th></th>\n",
       "      <th>Unnamed: 0</th>\n",
       "      <th>Content ID</th>\n",
       "      <th>User ID</th>\n",
       "      <th>Type_x</th>\n",
       "      <th>Datetime</th>\n",
       "      <th>Sentiment</th>\n",
       "      <th>Score</th>\n",
       "      <th>Type_y</th>\n",
       "      <th>Category</th>\n",
       "      <th>URL</th>\n",
       "    </tr>\n",
       "  </thead>\n",
       "  <tbody>\n",
       "    <tr>\n",
       "      <th>0</th>\n",
       "      <td>1</td>\n",
       "      <td>97522e57-d9ab-4bd6-97bf-c24d952602d2</td>\n",
       "      <td>5d454588-283d-459d-915d-c48a2cb4c27f</td>\n",
       "      <td>disgust</td>\n",
       "      <td>2020-11-07 09:43:50</td>\n",
       "      <td>negative</td>\n",
       "      <td>0</td>\n",
       "      <td>photo</td>\n",
       "      <td>studying</td>\n",
       "      <td>https://socialbuzz.cdn.com/content/storage/975...</td>\n",
       "    </tr>\n",
       "    <tr>\n",
       "      <th>1</th>\n",
       "      <td>4</td>\n",
       "      <td>97522e57-d9ab-4bd6-97bf-c24d952602d2</td>\n",
       "      <td>34e8add9-0206-47fd-a501-037b994650a2</td>\n",
       "      <td>disgust</td>\n",
       "      <td>2021-01-06 19:13:01</td>\n",
       "      <td>negative</td>\n",
       "      <td>0</td>\n",
       "      <td>photo</td>\n",
       "      <td>studying</td>\n",
       "      <td>https://socialbuzz.cdn.com/content/storage/975...</td>\n",
       "    </tr>\n",
       "    <tr>\n",
       "      <th>2</th>\n",
       "      <td>35</td>\n",
       "      <td>97522e57-d9ab-4bd6-97bf-c24d952602d2</td>\n",
       "      <td>13c06e7e-833d-47eb-a790-5e09ccfd8d2c</td>\n",
       "      <td>disgust</td>\n",
       "      <td>2021-04-09 02:46:20</td>\n",
       "      <td>negative</td>\n",
       "      <td>0</td>\n",
       "      <td>photo</td>\n",
       "      <td>studying</td>\n",
       "      <td>https://socialbuzz.cdn.com/content/storage/975...</td>\n",
       "    </tr>\n",
       "    <tr>\n",
       "      <th>3</th>\n",
       "      <td>2</td>\n",
       "      <td>97522e57-d9ab-4bd6-97bf-c24d952602d2</td>\n",
       "      <td>92b87fa5-f271-43e0-af66-84fac21052e6</td>\n",
       "      <td>dislike</td>\n",
       "      <td>2021-06-17 12:22:51</td>\n",
       "      <td>negative</td>\n",
       "      <td>10</td>\n",
       "      <td>photo</td>\n",
       "      <td>studying</td>\n",
       "      <td>https://socialbuzz.cdn.com/content/storage/975...</td>\n",
       "    </tr>\n",
       "    <tr>\n",
       "      <th>4</th>\n",
       "      <td>38</td>\n",
       "      <td>97522e57-d9ab-4bd6-97bf-c24d952602d2</td>\n",
       "      <td>69532ce2-1ffe-4187-8042-0230d115b24e</td>\n",
       "      <td>dislike</td>\n",
       "      <td>2020-11-09 02:49:59</td>\n",
       "      <td>negative</td>\n",
       "      <td>10</td>\n",
       "      <td>photo</td>\n",
       "      <td>studying</td>\n",
       "      <td>https://socialbuzz.cdn.com/content/storage/975...</td>\n",
       "    </tr>\n",
       "  </tbody>\n",
       "</table>\n",
       "</div>"
      ],
      "text/plain": [
       "   Unnamed: 0                            Content ID  \\\n",
       "0           1  97522e57-d9ab-4bd6-97bf-c24d952602d2   \n",
       "1           4  97522e57-d9ab-4bd6-97bf-c24d952602d2   \n",
       "2          35  97522e57-d9ab-4bd6-97bf-c24d952602d2   \n",
       "3           2  97522e57-d9ab-4bd6-97bf-c24d952602d2   \n",
       "4          38  97522e57-d9ab-4bd6-97bf-c24d952602d2   \n",
       "\n",
       "                                User ID   Type_x             Datetime  \\\n",
       "0  5d454588-283d-459d-915d-c48a2cb4c27f  disgust  2020-11-07 09:43:50   \n",
       "1  34e8add9-0206-47fd-a501-037b994650a2  disgust  2021-01-06 19:13:01   \n",
       "2  13c06e7e-833d-47eb-a790-5e09ccfd8d2c  disgust  2021-04-09 02:46:20   \n",
       "3  92b87fa5-f271-43e0-af66-84fac21052e6  dislike  2021-06-17 12:22:51   \n",
       "4  69532ce2-1ffe-4187-8042-0230d115b24e  dislike  2020-11-09 02:49:59   \n",
       "\n",
       "  Sentiment  Score Type_y  Category  \\\n",
       "0  negative      0  photo  studying   \n",
       "1  negative      0  photo  studying   \n",
       "2  negative      0  photo  studying   \n",
       "3  negative     10  photo  studying   \n",
       "4  negative     10  photo  studying   \n",
       "\n",
       "                                                 URL  \n",
       "0  https://socialbuzz.cdn.com/content/storage/975...  \n",
       "1  https://socialbuzz.cdn.com/content/storage/975...  \n",
       "2  https://socialbuzz.cdn.com/content/storage/975...  \n",
       "3  https://socialbuzz.cdn.com/content/storage/975...  \n",
       "4  https://socialbuzz.cdn.com/content/storage/975...  "
      ]
     },
     "execution_count": 22,
     "metadata": {},
     "output_type": "execute_result"
    }
   ],
   "source": [
    "# content - change case of all category values to lower\n",
    "df_reactions_clean['Category'] = df_reactions_clean['Category'].str.lower()\n",
    "df_reactions_clean.head()"
   ]
  },
  {
   "cell_type": "code",
   "execution_count": 23,
   "id": "17b24a52",
   "metadata": {},
   "outputs": [],
   "source": [
    "# content - convert Category variable from string to category type\n",
    "df_reactions_clean['Category'] = df_reactions_clean['Category'].astype('category')"
   ]
  },
  {
   "cell_type": "code",
   "execution_count": 24,
   "id": "03bcc09b",
   "metadata": {},
   "outputs": [
    {
     "name": "stdout",
     "output_type": "stream",
     "text": [
      "<class 'pandas.core.frame.DataFrame'>\n",
      "Int64Index: 22534 entries, 0 to 22533\n",
      "Data columns (total 10 columns):\n",
      " #   Column      Non-Null Count  Dtype   \n",
      "---  ------      --------------  -----   \n",
      " 0   Unnamed: 0  22534 non-null  int64   \n",
      " 1   Content ID  22534 non-null  object  \n",
      " 2   User ID     22534 non-null  object  \n",
      " 3   Type_x      22534 non-null  object  \n",
      " 4   Datetime    22534 non-null  object  \n",
      " 5   Sentiment   22534 non-null  object  \n",
      " 6   Score       22534 non-null  int64   \n",
      " 7   Type_y      22534 non-null  object  \n",
      " 8   Category    22534 non-null  category\n",
      " 9   URL         22534 non-null  object  \n",
      "dtypes: category(1), int64(2), object(7)\n",
      "memory usage: 1.7+ MB\n"
     ]
    }
   ],
   "source": [
    "# test\n",
    "df_reactions_clean.info()"
   ]
  },
  {
   "cell_type": "code",
   "execution_count": 25,
   "id": "c61c2f3f",
   "metadata": {},
   "outputs": [],
   "source": [
    "# user - drop users with age less than 13\n",
    "age_index = df_user_clean[df_user_clean['Age'] < 13].index\n",
    "df_user_clean.drop(age_index, inplace=True)"
   ]
  },
  {
   "cell_type": "code",
   "execution_count": 26,
   "id": "0d8ded08",
   "metadata": {},
   "outputs": [
    {
     "data": {
      "text/plain": [
       "0"
      ]
     },
     "execution_count": 26,
     "metadata": {},
     "output_type": "execute_result"
    }
   ],
   "source": [
    "# test \n",
    "(df_user_clean['Age'] < 13).sum()"
   ]
  },
  {
   "cell_type": "code",
   "execution_count": 27,
   "id": "9504381f",
   "metadata": {},
   "outputs": [],
   "source": [
    "# user - format emails for users with invalid emails\n",
    "df_user_clean['Email'] = df_user_clean['Email'].apply(lambda x: x[:2]+'@gmail.com')"
   ]
  },
  {
   "cell_type": "code",
   "execution_count": 28,
   "id": "0d6fe505",
   "metadata": {},
   "outputs": [
    {
     "data": {
      "text/plain": [
       "0"
      ]
     },
     "execution_count": 28,
     "metadata": {},
     "output_type": "execute_result"
    }
   ],
   "source": [
    "# test\n",
    "(~df_user_clean['Email'].str.contains('@')).sum()"
   ]
  },
  {
   "cell_type": "code",
   "execution_count": 29,
   "id": "0fa8a8d0",
   "metadata": {},
   "outputs": [
    {
     "data": {
      "text/html": [
       "<div>\n",
       "<style scoped>\n",
       "    .dataframe tbody tr th:only-of-type {\n",
       "        vertical-align: middle;\n",
       "    }\n",
       "\n",
       "    .dataframe tbody tr th {\n",
       "        vertical-align: top;\n",
       "    }\n",
       "\n",
       "    .dataframe thead th {\n",
       "        text-align: right;\n",
       "    }\n",
       "</style>\n",
       "<table border=\"1\" class=\"dataframe\">\n",
       "  <thead>\n",
       "    <tr style=\"text-align: right;\">\n",
       "      <th></th>\n",
       "      <th>Unnamed: 0_x</th>\n",
       "      <th>Content ID</th>\n",
       "      <th>User ID</th>\n",
       "      <th>Type_x</th>\n",
       "      <th>Datetime</th>\n",
       "      <th>Sentiment</th>\n",
       "      <th>Score</th>\n",
       "      <th>Type_y</th>\n",
       "      <th>Category</th>\n",
       "      <th>URL</th>\n",
       "      <th>Unnamed: 0_y</th>\n",
       "      <th>Name</th>\n",
       "      <th>Email</th>\n",
       "      <th>Age</th>\n",
       "    </tr>\n",
       "  </thead>\n",
       "  <tbody>\n",
       "    <tr>\n",
       "      <th>0</th>\n",
       "      <td>4</td>\n",
       "      <td>97522e57-d9ab-4bd6-97bf-c24d952602d2</td>\n",
       "      <td>34e8add9-0206-47fd-a501-037b994650a2</td>\n",
       "      <td>disgust</td>\n",
       "      <td>2021-01-06 19:13:01</td>\n",
       "      <td>negative</td>\n",
       "      <td>0</td>\n",
       "      <td>photo</td>\n",
       "      <td>studying</td>\n",
       "      <td>https://socialbuzz.cdn.com/content/storage/975...</td>\n",
       "      <td>449</td>\n",
       "      <td>Racheal Hart</td>\n",
       "      <td>RH@gmail.com</td>\n",
       "      <td>17</td>\n",
       "    </tr>\n",
       "    <tr>\n",
       "      <th>1</th>\n",
       "      <td>50</td>\n",
       "      <td>9f737e0a-3cdd-4d29-9d24-753f4e3be810</td>\n",
       "      <td>34e8add9-0206-47fd-a501-037b994650a2</td>\n",
       "      <td>scared</td>\n",
       "      <td>2021-02-11 04:53:56</td>\n",
       "      <td>negative</td>\n",
       "      <td>15</td>\n",
       "      <td>photo</td>\n",
       "      <td>healthy eating</td>\n",
       "      <td>https://socialbuzz.cdn.com/content/storage/9f7...</td>\n",
       "      <td>449</td>\n",
       "      <td>Racheal Hart</td>\n",
       "      <td>RH@gmail.com</td>\n",
       "      <td>17</td>\n",
       "    </tr>\n",
       "    <tr>\n",
       "      <th>2</th>\n",
       "      <td>331</td>\n",
       "      <td>81abd65a-3b76-4574-a0a7-db6bf7184ae2</td>\n",
       "      <td>34e8add9-0206-47fd-a501-037b994650a2</td>\n",
       "      <td>super love</td>\n",
       "      <td>2020-09-28 08:49:01</td>\n",
       "      <td>positive</td>\n",
       "      <td>75</td>\n",
       "      <td>video</td>\n",
       "      <td>food</td>\n",
       "      <td>https://socialbuzz.cdn.com/content/storage/81a...</td>\n",
       "      <td>449</td>\n",
       "      <td>Racheal Hart</td>\n",
       "      <td>RH@gmail.com</td>\n",
       "      <td>17</td>\n",
       "    </tr>\n",
       "    <tr>\n",
       "      <th>3</th>\n",
       "      <td>758</td>\n",
       "      <td>2920dccb-e06f-49fc-8049-b6d4164dfe84</td>\n",
       "      <td>34e8add9-0206-47fd-a501-037b994650a2</td>\n",
       "      <td>super love</td>\n",
       "      <td>2020-10-07 13:22:10</td>\n",
       "      <td>positive</td>\n",
       "      <td>75</td>\n",
       "      <td>GIF</td>\n",
       "      <td>veganism</td>\n",
       "      <td>https://socialbuzz.cdn.com/content/storage/292...</td>\n",
       "      <td>449</td>\n",
       "      <td>Racheal Hart</td>\n",
       "      <td>RH@gmail.com</td>\n",
       "      <td>17</td>\n",
       "    </tr>\n",
       "    <tr>\n",
       "      <th>4</th>\n",
       "      <td>839</td>\n",
       "      <td>74718bbf-e5a3-442f-8ca2-4a3428757fc1</td>\n",
       "      <td>34e8add9-0206-47fd-a501-037b994650a2</td>\n",
       "      <td>peeking</td>\n",
       "      <td>2020-12-07 07:22:43</td>\n",
       "      <td>neutral</td>\n",
       "      <td>35</td>\n",
       "      <td>video</td>\n",
       "      <td>dogs</td>\n",
       "      <td>https://socialbuzz.cdn.com/content/storage/747...</td>\n",
       "      <td>449</td>\n",
       "      <td>Racheal Hart</td>\n",
       "      <td>RH@gmail.com</td>\n",
       "      <td>17</td>\n",
       "    </tr>\n",
       "  </tbody>\n",
       "</table>\n",
       "</div>"
      ],
      "text/plain": [
       "   Unnamed: 0_x                            Content ID  \\\n",
       "0             4  97522e57-d9ab-4bd6-97bf-c24d952602d2   \n",
       "1            50  9f737e0a-3cdd-4d29-9d24-753f4e3be810   \n",
       "2           331  81abd65a-3b76-4574-a0a7-db6bf7184ae2   \n",
       "3           758  2920dccb-e06f-49fc-8049-b6d4164dfe84   \n",
       "4           839  74718bbf-e5a3-442f-8ca2-4a3428757fc1   \n",
       "\n",
       "                                User ID      Type_x             Datetime  \\\n",
       "0  34e8add9-0206-47fd-a501-037b994650a2     disgust  2021-01-06 19:13:01   \n",
       "1  34e8add9-0206-47fd-a501-037b994650a2      scared  2021-02-11 04:53:56   \n",
       "2  34e8add9-0206-47fd-a501-037b994650a2  super love  2020-09-28 08:49:01   \n",
       "3  34e8add9-0206-47fd-a501-037b994650a2  super love  2020-10-07 13:22:10   \n",
       "4  34e8add9-0206-47fd-a501-037b994650a2     peeking  2020-12-07 07:22:43   \n",
       "\n",
       "  Sentiment  Score Type_y        Category  \\\n",
       "0  negative      0  photo        studying   \n",
       "1  negative     15  photo  healthy eating   \n",
       "2  positive     75  video            food   \n",
       "3  positive     75    GIF        veganism   \n",
       "4   neutral     35  video            dogs   \n",
       "\n",
       "                                                 URL  Unnamed: 0_y  \\\n",
       "0  https://socialbuzz.cdn.com/content/storage/975...           449   \n",
       "1  https://socialbuzz.cdn.com/content/storage/9f7...           449   \n",
       "2  https://socialbuzz.cdn.com/content/storage/81a...           449   \n",
       "3  https://socialbuzz.cdn.com/content/storage/292...           449   \n",
       "4  https://socialbuzz.cdn.com/content/storage/747...           449   \n",
       "\n",
       "           Name         Email  Age  \n",
       "0  Racheal Hart  RH@gmail.com   17  \n",
       "1  Racheal Hart  RH@gmail.com   17  \n",
       "2  Racheal Hart  RH@gmail.com   17  \n",
       "3  Racheal Hart  RH@gmail.com   17  \n",
       "4  Racheal Hart  RH@gmail.com   17  "
      ]
     },
     "execution_count": 29,
     "metadata": {},
     "output_type": "execute_result"
    }
   ],
   "source": [
    "# merge reaction and user dataset\n",
    "df_user_reactions = pd.merge(df_reactions_clean, df_user_clean, on='User ID', how='inner')\n",
    "df_user_reactions.head()"
   ]
  },
  {
   "cell_type": "markdown",
   "id": "e5e5e15d",
   "metadata": {},
   "source": [
    "### Cleaning Task; Tidiness Issue"
   ]
  },
  {
   "cell_type": "code",
   "execution_count": 30,
   "id": "c8ae493a",
   "metadata": {},
   "outputs": [
    {
     "data": {
      "text/html": [
       "<div>\n",
       "<style scoped>\n",
       "    .dataframe tbody tr th:only-of-type {\n",
       "        vertical-align: middle;\n",
       "    }\n",
       "\n",
       "    .dataframe tbody tr th {\n",
       "        vertical-align: top;\n",
       "    }\n",
       "\n",
       "    .dataframe thead th {\n",
       "        text-align: right;\n",
       "    }\n",
       "</style>\n",
       "<table border=\"1\" class=\"dataframe\">\n",
       "  <thead>\n",
       "    <tr style=\"text-align: right;\">\n",
       "      <th></th>\n",
       "      <th>Unnamed: 0_x</th>\n",
       "      <th>Content ID</th>\n",
       "      <th>User ID</th>\n",
       "      <th>Reaction Type</th>\n",
       "      <th>Datetime</th>\n",
       "      <th>Sentiment</th>\n",
       "      <th>Score</th>\n",
       "      <th>Content Type</th>\n",
       "      <th>Category</th>\n",
       "      <th>URL</th>\n",
       "      <th>Unnamed: 0_y</th>\n",
       "      <th>Name</th>\n",
       "      <th>Email</th>\n",
       "      <th>Age</th>\n",
       "    </tr>\n",
       "  </thead>\n",
       "  <tbody>\n",
       "    <tr>\n",
       "      <th>0</th>\n",
       "      <td>4</td>\n",
       "      <td>97522e57-d9ab-4bd6-97bf-c24d952602d2</td>\n",
       "      <td>34e8add9-0206-47fd-a501-037b994650a2</td>\n",
       "      <td>disgust</td>\n",
       "      <td>2021-01-06 19:13:01</td>\n",
       "      <td>negative</td>\n",
       "      <td>0</td>\n",
       "      <td>photo</td>\n",
       "      <td>studying</td>\n",
       "      <td>https://socialbuzz.cdn.com/content/storage/975...</td>\n",
       "      <td>449</td>\n",
       "      <td>Racheal Hart</td>\n",
       "      <td>RH@gmail.com</td>\n",
       "      <td>17</td>\n",
       "    </tr>\n",
       "    <tr>\n",
       "      <th>1</th>\n",
       "      <td>50</td>\n",
       "      <td>9f737e0a-3cdd-4d29-9d24-753f4e3be810</td>\n",
       "      <td>34e8add9-0206-47fd-a501-037b994650a2</td>\n",
       "      <td>scared</td>\n",
       "      <td>2021-02-11 04:53:56</td>\n",
       "      <td>negative</td>\n",
       "      <td>15</td>\n",
       "      <td>photo</td>\n",
       "      <td>healthy eating</td>\n",
       "      <td>https://socialbuzz.cdn.com/content/storage/9f7...</td>\n",
       "      <td>449</td>\n",
       "      <td>Racheal Hart</td>\n",
       "      <td>RH@gmail.com</td>\n",
       "      <td>17</td>\n",
       "    </tr>\n",
       "    <tr>\n",
       "      <th>2</th>\n",
       "      <td>331</td>\n",
       "      <td>81abd65a-3b76-4574-a0a7-db6bf7184ae2</td>\n",
       "      <td>34e8add9-0206-47fd-a501-037b994650a2</td>\n",
       "      <td>super love</td>\n",
       "      <td>2020-09-28 08:49:01</td>\n",
       "      <td>positive</td>\n",
       "      <td>75</td>\n",
       "      <td>video</td>\n",
       "      <td>food</td>\n",
       "      <td>https://socialbuzz.cdn.com/content/storage/81a...</td>\n",
       "      <td>449</td>\n",
       "      <td>Racheal Hart</td>\n",
       "      <td>RH@gmail.com</td>\n",
       "      <td>17</td>\n",
       "    </tr>\n",
       "    <tr>\n",
       "      <th>3</th>\n",
       "      <td>758</td>\n",
       "      <td>2920dccb-e06f-49fc-8049-b6d4164dfe84</td>\n",
       "      <td>34e8add9-0206-47fd-a501-037b994650a2</td>\n",
       "      <td>super love</td>\n",
       "      <td>2020-10-07 13:22:10</td>\n",
       "      <td>positive</td>\n",
       "      <td>75</td>\n",
       "      <td>GIF</td>\n",
       "      <td>veganism</td>\n",
       "      <td>https://socialbuzz.cdn.com/content/storage/292...</td>\n",
       "      <td>449</td>\n",
       "      <td>Racheal Hart</td>\n",
       "      <td>RH@gmail.com</td>\n",
       "      <td>17</td>\n",
       "    </tr>\n",
       "    <tr>\n",
       "      <th>4</th>\n",
       "      <td>839</td>\n",
       "      <td>74718bbf-e5a3-442f-8ca2-4a3428757fc1</td>\n",
       "      <td>34e8add9-0206-47fd-a501-037b994650a2</td>\n",
       "      <td>peeking</td>\n",
       "      <td>2020-12-07 07:22:43</td>\n",
       "      <td>neutral</td>\n",
       "      <td>35</td>\n",
       "      <td>video</td>\n",
       "      <td>dogs</td>\n",
       "      <td>https://socialbuzz.cdn.com/content/storage/747...</td>\n",
       "      <td>449</td>\n",
       "      <td>Racheal Hart</td>\n",
       "      <td>RH@gmail.com</td>\n",
       "      <td>17</td>\n",
       "    </tr>\n",
       "  </tbody>\n",
       "</table>\n",
       "</div>"
      ],
      "text/plain": [
       "   Unnamed: 0_x                            Content ID  \\\n",
       "0             4  97522e57-d9ab-4bd6-97bf-c24d952602d2   \n",
       "1            50  9f737e0a-3cdd-4d29-9d24-753f4e3be810   \n",
       "2           331  81abd65a-3b76-4574-a0a7-db6bf7184ae2   \n",
       "3           758  2920dccb-e06f-49fc-8049-b6d4164dfe84   \n",
       "4           839  74718bbf-e5a3-442f-8ca2-4a3428757fc1   \n",
       "\n",
       "                                User ID Reaction Type             Datetime  \\\n",
       "0  34e8add9-0206-47fd-a501-037b994650a2       disgust  2021-01-06 19:13:01   \n",
       "1  34e8add9-0206-47fd-a501-037b994650a2        scared  2021-02-11 04:53:56   \n",
       "2  34e8add9-0206-47fd-a501-037b994650a2    super love  2020-09-28 08:49:01   \n",
       "3  34e8add9-0206-47fd-a501-037b994650a2    super love  2020-10-07 13:22:10   \n",
       "4  34e8add9-0206-47fd-a501-037b994650a2       peeking  2020-12-07 07:22:43   \n",
       "\n",
       "  Sentiment  Score Content Type        Category  \\\n",
       "0  negative      0        photo        studying   \n",
       "1  negative     15        photo  healthy eating   \n",
       "2  positive     75        video            food   \n",
       "3  positive     75          GIF        veganism   \n",
       "4   neutral     35        video            dogs   \n",
       "\n",
       "                                                 URL  Unnamed: 0_y  \\\n",
       "0  https://socialbuzz.cdn.com/content/storage/975...           449   \n",
       "1  https://socialbuzz.cdn.com/content/storage/9f7...           449   \n",
       "2  https://socialbuzz.cdn.com/content/storage/81a...           449   \n",
       "3  https://socialbuzz.cdn.com/content/storage/292...           449   \n",
       "4  https://socialbuzz.cdn.com/content/storage/747...           449   \n",
       "\n",
       "           Name         Email  Age  \n",
       "0  Racheal Hart  RH@gmail.com   17  \n",
       "1  Racheal Hart  RH@gmail.com   17  \n",
       "2  Racheal Hart  RH@gmail.com   17  \n",
       "3  Racheal Hart  RH@gmail.com   17  \n",
       "4  Racheal Hart  RH@gmail.com   17  "
      ]
     },
     "execution_count": 30,
     "metadata": {},
     "output_type": "execute_result"
    }
   ],
   "source": [
    "#rename type column to reflect the datasets\n",
    "df_user_reactions.rename(columns={'Type_x':'Reaction Type', 'Type_y': 'Content Type'}, inplace=True) \n",
    "df_user_reactions.head()"
   ]
  },
  {
   "cell_type": "code",
   "execution_count": 35,
   "id": "3e40e814",
   "metadata": {},
   "outputs": [
    {
     "data": {
      "text/html": [
       "<div>\n",
       "<style scoped>\n",
       "    .dataframe tbody tr th:only-of-type {\n",
       "        vertical-align: middle;\n",
       "    }\n",
       "\n",
       "    .dataframe tbody tr th {\n",
       "        vertical-align: top;\n",
       "    }\n",
       "\n",
       "    .dataframe thead th {\n",
       "        text-align: right;\n",
       "    }\n",
       "</style>\n",
       "<table border=\"1\" class=\"dataframe\">\n",
       "  <thead>\n",
       "    <tr style=\"text-align: right;\">\n",
       "      <th></th>\n",
       "      <th>Content ID</th>\n",
       "      <th>User ID</th>\n",
       "      <th>Reaction Type</th>\n",
       "      <th>Datetime</th>\n",
       "      <th>Category</th>\n",
       "      <th>Content Type</th>\n",
       "      <th>Sentiment</th>\n",
       "      <th>Score</th>\n",
       "    </tr>\n",
       "  </thead>\n",
       "  <tbody>\n",
       "    <tr>\n",
       "      <th>0</th>\n",
       "      <td>97522e57-d9ab-4bd6-97bf-c24d952602d2</td>\n",
       "      <td>34e8add9-0206-47fd-a501-037b994650a2</td>\n",
       "      <td>disgust</td>\n",
       "      <td>2021-01-06 19:13:01</td>\n",
       "      <td>studying</td>\n",
       "      <td>photo</td>\n",
       "      <td>negative</td>\n",
       "      <td>0</td>\n",
       "    </tr>\n",
       "    <tr>\n",
       "      <th>1</th>\n",
       "      <td>9f737e0a-3cdd-4d29-9d24-753f4e3be810</td>\n",
       "      <td>34e8add9-0206-47fd-a501-037b994650a2</td>\n",
       "      <td>scared</td>\n",
       "      <td>2021-02-11 04:53:56</td>\n",
       "      <td>healthy eating</td>\n",
       "      <td>photo</td>\n",
       "      <td>negative</td>\n",
       "      <td>15</td>\n",
       "    </tr>\n",
       "    <tr>\n",
       "      <th>2</th>\n",
       "      <td>81abd65a-3b76-4574-a0a7-db6bf7184ae2</td>\n",
       "      <td>34e8add9-0206-47fd-a501-037b994650a2</td>\n",
       "      <td>super love</td>\n",
       "      <td>2020-09-28 08:49:01</td>\n",
       "      <td>food</td>\n",
       "      <td>video</td>\n",
       "      <td>positive</td>\n",
       "      <td>75</td>\n",
       "    </tr>\n",
       "    <tr>\n",
       "      <th>3</th>\n",
       "      <td>2920dccb-e06f-49fc-8049-b6d4164dfe84</td>\n",
       "      <td>34e8add9-0206-47fd-a501-037b994650a2</td>\n",
       "      <td>super love</td>\n",
       "      <td>2020-10-07 13:22:10</td>\n",
       "      <td>veganism</td>\n",
       "      <td>GIF</td>\n",
       "      <td>positive</td>\n",
       "      <td>75</td>\n",
       "    </tr>\n",
       "    <tr>\n",
       "      <th>4</th>\n",
       "      <td>74718bbf-e5a3-442f-8ca2-4a3428757fc1</td>\n",
       "      <td>34e8add9-0206-47fd-a501-037b994650a2</td>\n",
       "      <td>peeking</td>\n",
       "      <td>2020-12-07 07:22:43</td>\n",
       "      <td>dogs</td>\n",
       "      <td>video</td>\n",
       "      <td>neutral</td>\n",
       "      <td>35</td>\n",
       "    </tr>\n",
       "  </tbody>\n",
       "</table>\n",
       "</div>"
      ],
      "text/plain": [
       "                             Content ID                               User ID  \\\n",
       "0  97522e57-d9ab-4bd6-97bf-c24d952602d2  34e8add9-0206-47fd-a501-037b994650a2   \n",
       "1  9f737e0a-3cdd-4d29-9d24-753f4e3be810  34e8add9-0206-47fd-a501-037b994650a2   \n",
       "2  81abd65a-3b76-4574-a0a7-db6bf7184ae2  34e8add9-0206-47fd-a501-037b994650a2   \n",
       "3  2920dccb-e06f-49fc-8049-b6d4164dfe84  34e8add9-0206-47fd-a501-037b994650a2   \n",
       "4  74718bbf-e5a3-442f-8ca2-4a3428757fc1  34e8add9-0206-47fd-a501-037b994650a2   \n",
       "\n",
       "  Reaction Type             Datetime        Category Content Type Sentiment  \\\n",
       "0       disgust  2021-01-06 19:13:01        studying        photo  negative   \n",
       "1        scared  2021-02-11 04:53:56  healthy eating        photo  negative   \n",
       "2    super love  2020-09-28 08:49:01            food        video  positive   \n",
       "3    super love  2020-10-07 13:22:10        veganism          GIF  positive   \n",
       "4       peeking  2020-12-07 07:22:43            dogs        video   neutral   \n",
       "\n",
       "   Score  \n",
       "0      0  \n",
       "1     15  \n",
       "2     75  \n",
       "3     75  \n",
       "4     35  "
      ]
     },
     "execution_count": 35,
     "metadata": {},
     "output_type": "execute_result"
    }
   ],
   "source": [
    "# drop Unnamed fields from the merged dataset\n",
    "df_user_reactions = df_user_reactions[['Content ID', 'User ID', 'Reaction Type', 'Datetime','Category','Content Type','Sentiment' ,'Score']]\n",
    "df_user_reactions.head()"
   ]
  },
  {
   "cell_type": "markdown",
   "id": "14ebf29d",
   "metadata": {},
   "source": [
    "### Question; what is the distribution of popularity score for posts in the dataset."
   ]
  },
  {
   "cell_type": "code",
   "execution_count": 46,
   "id": "fea6c007",
   "metadata": {},
   "outputs": [
    {
     "data": {
      "text/plain": [
       "<AxesSubplot:xlabel='Score', ylabel='count'>"
      ]
     },
     "execution_count": 46,
     "metadata": {},
     "output_type": "execute_result"
    },
    {
     "data": {
      "image/png": "[encoded data removed]",
      "text/plain": [
       "<Figure size 432x288 with 1 Axes>"
      ]
     },
     "metadata": {
      "needs_background": "light"
     },
     "output_type": "display_data"
    }
   ],
   "source": [
    "# score distributions\n",
    "base_color = sb.color_palette()[0]\n",
    "sb.countplot(data=df_user_reactions, x='Score', color=base_color)"
   ]
  },
  {
   "cell_type": "markdown",
   "id": "12957d19",
   "metadata": {},
   "source": [
    "### Insight\n",
    "- most post by users has a popularity score of 70%\n",
    "- almost equal no of posts has popularity scores ranging from 0-75. this does no include the popularity 70% score that can be seen for over 2k post."
   ]
  },
  {
   "cell_type": "code",
   "execution_count": 48,
   "id": "5e19aafa",
   "metadata": {},
   "outputs": [
    {
     "data": {
      "text/plain": [
       "<AxesSubplot:xlabel='Sentiment', ylabel='count'>"
      ]
     },
     "execution_count": 48,
     "metadata": {},
     "output_type": "execute_result"
    },
    {
     "data": {
      "image/png": "[encoded data removed]",
      "text/plain": [
       "<Figure size 432x288 with 1 Axes>"
      ]
     },
     "metadata": {
      "needs_background": "light"
     },
     "output_type": "display_data"
    }
   ],
   "source": [
    "# distribution of categorical variables\n",
    "# setiment\n",
    "sent_order = df_user_reactions.Sentiment.value_counts().index\n",
    "sb.countplot(data=df_user_reactions, x='Sentiment', color=base_color, order=sent_order)"
   ]
  },
  {
   "cell_type": "code",
   "execution_count": 51,
   "id": "5ed3aad3",
   "metadata": {},
   "outputs": [
    {
     "data": {
      "image/png": "[encoded data removed]",
      "text/plain": [
       "<Figure size 432x288 with 1 Axes>"
      ]
     },
     "metadata": {
      "needs_background": "light"
     },
     "output_type": "display_data"
    }
   ],
   "source": [
    "# distribution of content type\n",
    "content_order = df_user_reactions['Content Type'].value_counts().index\n",
    "sb.countplot(data=df_user_reactions, x='Content Type', color=base_color, order=content_order);"
   ]
  },
  {
   "cell_type": "markdown",
   "id": "d75c512a",
   "metadata": {},
   "source": [
    "- majority of content posted by users contain photos. this is closly followed by video and GIF contents. audion contents are the least posted compared to the other content type."
   ]
  },
  {
   "cell_type": "code",
   "execution_count": 56,
   "id": "27a51ebd",
   "metadata": {},
   "outputs": [
    {
     "data": {
      "text/plain": [
       "<AxesSubplot:xlabel='count', ylabel='Category'>"
      ]
     },
     "execution_count": 56,
     "metadata": {},
     "output_type": "execute_result"
    },
    {
     "data": {
      "image/png": "[encoded data removed]",
      "text/plain": [
       "<Figure size 576x504 with 1 Axes>"
      ]
     },
     "metadata": {
      "needs_background": "light"
     },
     "output_type": "display_data"
    }
   ],
   "source": [
    "# distribution of content's category\n",
    "plt.figure(figsize=[8,7])\n",
    "cat_order = df_user_reactions.Category.value_counts().index\n",
    "sb.countplot(data=df_user_reactions, y='Category', color=base_color, order=cat_order)"
   ]
  },
  {
   "cell_type": "code",
   "execution_count": 32,
   "id": "3ef2a982",
   "metadata": {},
   "outputs": [],
   "source": [
    "# Export cleaned datasets to csv\n",
    "df_user_reactions.to_csv('user_reactions_clean.csv', index=False)`"
   ]
  },
  {
   "cell_type": "code",
   "execution_count": null,
   "id": "70aaa359",
   "metadata": {},
   "outputs": [],
   "source": []
  }
 ],
 "metadata": {
  "kernelspec": {
   "display_name": "Python [conda env:my_env] *",
   "language": "python",
   "name": "conda-env-my_env-py"
  },
  "language_info": {
   "codemirror_mode": {
    "name": "ipython",
    "version": 3
   },
   "file_extension": ".py",
   "mimetype": "text/x-python",
   "name": "python",
   "nbconvert_exporter": "python",
   "pygments_lexer": "ipython3",
   "version": "3.7.13"
  }
 },
 "nbformat": 4,
 "nbformat_minor": 5
}
